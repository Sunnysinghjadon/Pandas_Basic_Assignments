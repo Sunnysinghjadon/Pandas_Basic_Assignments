{
 "cells": [
  {
   "cell_type": "markdown",
   "id": "c96b5cd5-716f-4b90-8c04-c543a5babf89",
   "metadata": {},
   "source": [
    "# Q1. Create a Pandas Series that contains the following data: 4, 8, 15, 16, 23, and 42. Then, print the series."
   ]
  },
  {
   "cell_type": "code",
   "execution_count": 1,
   "id": "3b1edb84-bf60-491e-bfb1-da0951d95b6b",
   "metadata": {},
   "outputs": [
    {
     "name": "stdout",
     "output_type": "stream",
     "text": [
      "0     4\n",
      "1     8\n",
      "2    15\n",
      "3    16\n",
      "4    23\n",
      "5    42\n",
      "dtype: int64\n"
     ]
    }
   ],
   "source": [
    "import pandas as pd\n",
    "\n",
    "data = [4, 8, 15, 16, 23, 42]\n",
    "series = pd.Series(data)\n",
    "print(series)\n",
    "\n"
   ]
  },
  {
   "cell_type": "markdown",
   "id": "03347e27-6561-4c6f-918b-c7bc8d056da1",
   "metadata": {},
   "source": [
    "# Q2. Create a variable of list type containing 10 elements in it, and apply pandas.Series function on the variable print it."
   ]
  },
  {
   "cell_type": "code",
   "execution_count": 2,
   "id": "945237b5-e5d2-48e5-be1d-f19e275e50c4",
   "metadata": {},
   "outputs": [
    {
     "name": "stdout",
     "output_type": "stream",
     "text": [
      "0     1\n",
      "1     2\n",
      "2     3\n",
      "3     4\n",
      "4     5\n",
      "5     6\n",
      "6     7\n",
      "7     8\n",
      "8     9\n",
      "9    10\n",
      "dtype: int64\n"
     ]
    }
   ],
   "source": [
    "import pandas as pd\n",
    "\n",
    "my_list = [1, 2, 3, 4, 5, 6, 7, 8, 9, 10]\n",
    "series = pd.Series(my_list)\n",
    "print(series)\n"
   ]
  },
  {
   "cell_type": "markdown",
   "id": "0e9d16c9-2bac-4ed1-a571-3dd0f4c4a748",
   "metadata": {},
   "source": [
    " # ANSWER : 3"
   ]
  },
  {
   "cell_type": "code",
   "execution_count": 3,
   "id": "bd6a4180-ce6c-415e-8fd0-5aad13dcda88",
   "metadata": {},
   "outputs": [
    {
     "name": "stdout",
     "output_type": "stream",
     "text": [
      "     Name  Age  Gender\n",
      "0   Alice   25  Female\n",
      "1     Bob   30    Male\n",
      "2  Claire   27  Female\n"
     ]
    }
   ],
   "source": [
    "import pandas as pd\n",
    "\n",
    "data = {\n",
    "    'Name': ['Alice', 'Bob', 'Claire'],\n",
    "    'Age': [25, 30, 27],\n",
    "    'Gender': ['Female', 'Male', 'Female']\n",
    "}\n",
    "\n",
    "df = pd.DataFrame(data)\n",
    "print(df)\n"
   ]
  },
  {
   "cell_type": "markdown",
   "id": "5073c3c2-7505-458d-a353-08567d78f6b5",
   "metadata": {},
   "source": [
    "# Q4. What is ‘DataFrame’ in pandas and how is it different from pandas.series? Explain with an example"
   ]
  },
  {
   "cell_type": "code",
   "execution_count": null,
   "id": "367402c1-99bd-4b71-ba6e-54ab3508f8b7",
   "metadata": {},
   "outputs": [],
   "source": [
    " A 'DataFrame' in Pandas is a two-dimensional labeled data structure that can store data of different types (e.g., numeric, string, boolean) in columns. It is similar to a table or a spreadsheet, where each column represents a variable, and each row represents an observation or record. A DataFrame can be thought of as a collection of Pandas Series, where each column of the DataFrame is a Series.\n",
    "\n",
    "The main difference between a Pandas Series and a DataFrame is that a Series is a one-dimensional labeled array that can store a single column of data, while a DataFrame is a two-dimensional structure that can store multiple columns of data. In other words, a DataFrame can be seen as a collection of Series that share the same index."
   ]
  },
  {
   "cell_type": "markdown",
   "id": "ad947221-42ef-43f2-82e6-6396dd2bc526",
   "metadata": {},
   "source": [
    "# Q5. What are some common functions you can use to manipulate data in a Pandas DataFrame? Can you give an example of when you might use one of these functions?"
   ]
  },
  {
   "cell_type": "code",
   "execution_count": null,
   "id": "1e5a0b30-dc9a-4d5a-8211-b0adabafa02f",
   "metadata": {},
   "outputs": [],
   "source": [
    "head() and tail(): Returns the first or last n rows of the DataFrame.\n",
    "info(): Provides a summary of the DataFrame, including the data types and column information.\n",
    "describe(): Generates descriptive statistics of the DataFrame, such as count, mean, standard deviation, etc.\n",
    "sort_values(): Sorts the DataFrame by one or more columns.\n",
    "groupby(): Groups the DataFrame based on one or more columns, allowing aggregation and analysis on the groups.\n",
    "fillna(): Fills missing values in the DataFrame with a specified value or using various filling methods.\n",
    "here is an example : "
   ]
  },
  {
   "cell_type": "code",
   "execution_count": 4,
   "id": "ce639171-bb38-488d-8f7a-e088f948011f",
   "metadata": {},
   "outputs": [
    {
     "name": "stdout",
     "output_type": "stream",
     "text": [
      "     Name  Age  Gender\n",
      "0   Alice   25  Female\n",
      "1     Bob   30    Male\n",
      "2  Claire   27  Female\n"
     ]
    }
   ],
   "source": [
    "import pandas as pd\n",
    "\n",
    "data = {\n",
    "    'Name': ['Alice', 'Bob', 'Claire'],\n",
    "    'Age': [25, 30, 27],\n",
    "    'Gender': ['Female', 'Male', 'Female']\n",
    "}\n",
    "\n",
    "df = pd.DataFrame(data)\n",
    "print(df.head())\n"
   ]
  },
  {
   "cell_type": "markdown",
   "id": "eb0868f9-6c98-45f5-9711-a9c7ad5a7b2f",
   "metadata": {},
   "source": [
    "# Q6. Which of the following is mutable in nature Series, DataFrame, Panel?"
   ]
  },
  {
   "cell_type": "code",
   "execution_count": null,
   "id": "3756ef87-5487-484f-a719-cf207a656460",
   "metadata": {},
   "outputs": [],
   "source": [
    " Among Series, DataFrame, and Panel, the mutable nature applies to the DataFrame. DataFrames are mutable, meaning you can modify their contents, add or remove columns, change values, and perform various other operations that alter the DataFrame itself. Series and Panel, on the other hand, are immutable, meaning their contents cannot be modified after creation. Once a Series or Panel is created, you cannot change its values, index, or dimensions directly. Instead, you would typically create a new Series or Panel based on the existing ones if you need to modify the data."
   ]
  },
  {
   "cell_type": "markdown",
   "id": "ba6827e3-8035-44f5-8774-956b9b3334cd",
   "metadata": {},
   "source": [
    "# Q7. Create a DataFrame using multiple Series. Explain with an example"
   ]
  },
  {
   "cell_type": "code",
   "execution_count": null,
   "id": "21ea6fdd-c370-4702-a1bf-477d3fd2325d",
   "metadata": {},
   "outputs": [],
   "source": [
    "To create a DataFrame using multiple Series, you can combine the Series into a dictionary and then convert it to a DataFrame using the pd.DataFrame() function.\n",
    "Here's an example :"
   ]
  },
  {
   "cell_type": "code",
   "execution_count": 5,
   "id": "04ad9b93-3234-41e6-a96d-7f1cffb2b889",
   "metadata": {},
   "outputs": [
    {
     "name": "stdout",
     "output_type": "stream",
     "text": [
      "     Name  Age  Gender\n",
      "0   Alice   25  Female\n",
      "1     Bob   30    Male\n",
      "2  Claire   27  Female\n"
     ]
    }
   ],
   "source": [
    "import pandas as pd\n",
    "\n",
    "name_series = pd.Series(['Alice', 'Bob', 'Claire'])\n",
    "age_series = pd.Series([25, 30, 27])\n",
    "gender_series = pd.Series(['Female', 'Male', 'Female'])\n",
    "\n",
    "data = {\n",
    "    'Name': name_series,\n",
    "    'Age': age_series,\n",
    "    'Gender': gender_series\n",
    "}\n",
    "\n",
    "df = pd.DataFrame(data)\n",
    "print(df)\n"
   ]
  },
  {
   "cell_type": "code",
   "execution_count": 6,
   "id": "9f824a93-5221-4669-b51f-cda1f5f68d8b",
   "metadata": {},
   "outputs": [],
   "source": [
    "#THE END "
   ]
  },
  {
   "cell_type": "code",
   "execution_count": null,
   "id": "97df6484-d82d-4389-91e0-f90404578615",
   "metadata": {},
   "outputs": [],
   "source": []
  }
 ],
 "metadata": {
  "kernelspec": {
   "display_name": "Python 3 (ipykernel)",
   "language": "python",
   "name": "python3"
  },
  "language_info": {
   "codemirror_mode": {
    "name": "ipython",
    "version": 3
   },
   "file_extension": ".py",
   "mimetype": "text/x-python",
   "name": "python",
   "nbconvert_exporter": "python",
   "pygments_lexer": "ipython3",
   "version": "3.10.8"
  }
 },
 "nbformat": 4,
 "nbformat_minor": 5
}
